{
 "cells": [
  {
   "cell_type": "markdown",
   "metadata": {},
   "source": [
    "Make a jupyter notebook that uses mdtraj to\n",
    "\ta) read in the ubiquitin structure\n",
    "\tb) print the total number of hydrogen bonds\n",
    "\tc) compute the number of helical amino acids"
   ]
  },
  {
   "cell_type": "code",
   "execution_count": 1,
   "metadata": {},
   "outputs": [],
   "source": [
    "import mdtraj as md\n",
    "import numpy as np"
   ]
  },
  {
   "cell_type": "code",
   "execution_count": 2,
   "metadata": {
    "scrolled": true
   },
   "outputs": [
    {
     "name": "stdout",
     "output_type": "stream",
     "text": [
      "/scratch/work/courses/CHEM-GA-2671-2023fa/students/sea438/comp-lab-class-2023/Week2/Data\n"
     ]
    }
   ],
   "source": [
    "cd /scratch/work/courses/CHEM-GA-2671-2023fa/students/sea438/comp-lab-class-2023/Week2/Data"
   ]
  },
  {
   "cell_type": "code",
   "execution_count": 3,
   "metadata": {},
   "outputs": [],
   "source": [
    "pdbfile='1UBQ_processed.pdb'"
   ]
  },
  {
   "cell_type": "code",
   "execution_count": 4,
   "metadata": {},
   "outputs": [
    {
     "name": "stdout",
     "output_type": "stream",
     "text": [
      "Number of Hydrogen Bonds: 57\n"
     ]
    }
   ],
   "source": [
    "#Number of H bonds\n",
    "\n",
    "trajectory = md.load(pdbfile)\n",
    "\n",
    "hbonds = md.baker_hubbard(trajectory, periodic=True)\n",
    "# Count the number of hydrogen bonds\n",
    "num_hydrogen_bonds = len(hbonds)\n",
    "\n",
    "print(f\"Number of Hydrogen Bonds: {num_hydrogen_bonds}\")"
   ]
  },
  {
   "cell_type": "code",
   "execution_count": 35,
   "metadata": {},
   "outputs": [
    {
     "name": "stdout",
     "output_type": "stream",
     "text": [
      "Number of helical amino acids: 18\n"
     ]
    }
   ],
   "source": [
    "#Computing helical amino acids #18/134\n",
    "\n",
    "helical_amino_acids=0\n",
    "\n",
    "dssp = md.compute_dssp(trajectory)\n",
    "\n",
    "helix_secondary_structure_types = 'H'\n",
    "\n",
    "for ss in dssp:\n",
    "    for i in range(len(ss)):\n",
    "        if ss[i] == helix_secondary_structure_types:\n",
    "            helical_amino_acids += 1\n",
    "\n",
    "print(\"Number of helical amino acids:\", helical_amino_acids)"
   ]
  }
 ],
 "metadata": {
  "kernelspec": {
   "display_name": "lab_env_2023",
   "language": "python",
   "name": "lab_env_2023"
  },
  "language_info": {
   "codemirror_mode": {
    "name": "ipython",
    "version": 3
   },
   "file_extension": ".py",
   "mimetype": "text/x-python",
   "name": "python",
   "nbconvert_exporter": "python",
   "pygments_lexer": "ipython3",
   "version": "3.9.12"
  }
 },
 "nbformat": 4,
 "nbformat_minor": 4
}
