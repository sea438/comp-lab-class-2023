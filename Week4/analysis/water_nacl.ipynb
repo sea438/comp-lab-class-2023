{
 "cells": [
  {
   "cell_type": "markdown",
   "metadata": {},
   "source": [
    "In a jupyter notebook, compute the mean squared displacement for the Water Oxygens, the Sodium, and the Oxygen using mdtraj or MDAnalysis (you don't have to wait for the simulation to finish to start working on this)"
   ]
  },
  {
   "cell_type": "code",
   "execution_count": 1,
   "metadata": {},
   "outputs": [],
   "source": [
    "import numpy as np\n",
    "import matplotlib.pyplot as plt\n",
    "import mdtraj as md"
   ]
  },
  {
   "cell_type": "code",
   "execution_count": 2,
   "metadata": {},
   "outputs": [
    {
     "name": "stdout",
     "output_type": "stream",
     "text": [
      "/scratch/work/courses/CHEM-GA-2671-2023fa/students/sea438/comp-lab-class-2023/Week4/Setup/gromacs_nacl\n"
     ]
    }
   ],
   "source": [
    "cd //scratch/work/courses/CHEM-GA-2671-2023fa/students/sea438/comp-lab-class-2023/Week4/Setup/gromacs_nacl"
   ]
  },
  {
   "cell_type": "code",
   "execution_count": null,
   "metadata": {},
   "outputs": [],
   "source": [
    "traj = md.load(\"unwrapped.xtc\", top=\"step3_input.pdb\")\n",
    "\n",
    "water_oxygen_indices = traj.top.select('resname WAT and name O')\n",
    "sodium_indices = traj.top.select('name NA')\n",
    "chloride_indices = traj.top.select('name O')\n",
    "\n",
    "msd_water = md.compute_msd(traj, atom_indices=water_oxygen_indices)\n",
    "msd_sodium = md.compute_msd(traj, atom_indices=sodium_indices)\n",
    "msd_oxygen = md.compute_msd(traj, atom_indices=oxygen_indices)\n",
    "\n",
    "atoms = [msd_water,msd_sodium,msd_oxygen]\n",
    "plt.xlabel('Time')\n",
    "plt.ylabel('MSD')\n",
    "for msd in atoms:\n",
    "    plt.plot(time,msd,label=str(msd))\n",
    "    plt.showlegend()\n",
    "plt.show()\n",
    "plt.savefig('../Figures/MSD.png')"
   ]
  },
  {
   "cell_type": "code",
   "execution_count": null,
   "metadata": {},
   "outputs": [],
   "source": []
  }
 ],
 "metadata": {
  "kernelspec": {
   "display_name": "lab_env_2023",
   "language": "python",
   "name": "lab_env_2023"
  },
  "language_info": {
   "codemirror_mode": {
    "name": "ipython",
    "version": 3
   },
   "file_extension": ".py",
   "mimetype": "text/x-python",
   "name": "python",
   "nbconvert_exporter": "python",
   "pygments_lexer": "ipython3",
   "version": "3.9.12"
  }
 },
 "nbformat": 4,
 "nbformat_minor": 4
}
